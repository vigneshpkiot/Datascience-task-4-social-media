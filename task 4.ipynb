{
 "cells": [
  {
   "cell_type": "code",
   "execution_count": null,
   "id": "b40f4e11",
   "metadata": {},
   "outputs": [],
   "source": [
    "import pandas as pd\n",
    "import matplotlib.pyplot as plt\n",
    "from nltk.sentiment import SentimentIntensityAnalyzer\n",
    "from nltk.tokenize import word_tokenize\n",
    "import nltk\n",
    "from collections import Counter\n",
    "\n",
    "# Download NLTK resources (if not already downloaded)\n",
    "nltk.download('punkt')\n",
    "nltk.download('vader_lexicon')\n",
    "\n",
    "# Sample social media data\n",
    "data = {'tweets': [\"I love the new product! It's amazing!\",\n",
    "                   \"Not impressed with the customer service.\",\n",
    "                   \"Excited to try out the latest features!\",\n",
    "                   \"Disappointed with the quality of the product.\",\n",
    "                   \"Great experience with the support team.\",\n",
    "                   \"The new update is a game-changer!\"]}\n",
    "\n",
    "df = pd.DataFrame(data)\n",
    "\n",
    "# Sentiment analysis using NLTK's SentimentIntensityAnalyzer\n",
    "sia = SentimentIntensityAnalyzer()\n",
    "df['compound'] = df['tweets'].apply(lambda x: sia.polarity_scores(x)['compound'])\n",
    "\n",
    "# Categorize sentiment into positive, negative, or neutral\n",
    "df['sentiment'] = df['compound'].apply(lambda x: 'positive' if x > 0 else ('negative' if x < 0 else 'neutral'))\n",
    "\n",
    "# Visualize sentiment distribution\n",
    "sentiment_counts = Counter(df['sentiment'])\n",
    "labels, values = zip(*sentiment_counts.items())\n",
    "\n",
    "plt.bar(labels, values, color=['green', 'red', 'grey'])\n",
    "plt.title('Sentiment Distribution')\n",
    "plt.xlabel('Sentiment')\n",
    "plt.ylabel('Count')\n",
    "plt.show()\n",
    "\n",
    "# Display the sentiment analysis results\n",
    "print(\"\\nSentiment Analysis Results:\")\n",
    "print(df[['tweets', 'sentiment']])\n"
   ]
  }
 ],
 "metadata": {
  "kernelspec": {
   "display_name": "Python 3 (ipykernel)",
   "language": "python",
   "name": "python3"
  },
  "language_info": {
   "codemirror_mode": {
    "name": "ipython",
    "version": 3
   },
   "file_extension": ".py",
   "mimetype": "text/x-python",
   "name": "python",
   "nbconvert_exporter": "python",
   "pygments_lexer": "ipython3",
   "version": "3.10.9"
  }
 },
 "nbformat": 4,
 "nbformat_minor": 5
}
